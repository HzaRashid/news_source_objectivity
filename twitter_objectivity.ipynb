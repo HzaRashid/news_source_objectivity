{
 "cells": [
  {
   "cell_type": "code",
   "execution_count": 37,
   "id": "d37e6758",
   "metadata": {},
   "outputs": [],
   "source": [
    "from textblob import TextBlob as TB, Word\n",
    "from nltk.corpus import stopwords\n",
    "import nltk\n",
    "# import tensorflow_datasets as tfds\n",
    "# import tensorflow_hub as tfhub\n",
    "# from tensorflow import keras\n",
    "# import tensorflow as tf\n",
    "import pandas as pd\n",
    "import tweepy as ty\n",
    "import numpy as np\n",
    "import re\n",
    "from nltk.sentiment.vader import SentimentIntensityAnalyzer"
   ]
  },
  {
   "cell_type": "code",
   "execution_count": 38,
   "id": "1027c200",
   "metadata": {
    "scrolled": false
   },
   "outputs": [
    {
     "data": {
      "text/plain": [
       "pandas.core.frame.DataFrame"
      ]
     },
     "execution_count": 38,
     "metadata": {},
     "output_type": "execute_result"
    }
   ],
   "source": [
    "twtr_info = pd.read_csv('keys_tokens.csv')\n",
    "type(twtr_info)"
   ]
  },
  {
   "cell_type": "code",
   "execution_count": 39,
   "id": "ddc6894e",
   "metadata": {
    "scrolled": true
   },
   "outputs": [],
   "source": [
    "consumer_key = twtr_info['API Key'][0]\n",
    "consumer_secret = twtr_info['API Key Secret'][0]\n",
    "access_token = twtr_info['Access Token'][0]\n",
    "access_token_secret = twtr_info['Access Token Secret'][0]"
   ]
  },
  {
   "cell_type": "code",
   "execution_count": 40,
   "id": "278c4943",
   "metadata": {},
   "outputs": [],
   "source": [
    "auth = ty.OAuthHandler(consumer_key, consumer_secret)\n",
    "auth.set_access_token(access_token, access_token_secret)\n",
    "api = ty.API(auth, wait_on_rate_limit = True)"
   ]
  },
  {
   "cell_type": "code",
   "execution_count": 41,
   "id": "4d537476",
   "metadata": {},
   "outputs": [],
   "source": [
    "news_sources = ['nytimes', 'WSJ', 'FoxNews', 'CNN', 'BBC', 'AlJazeera']\n",
    "twitter_handle = news_sources[0]"
   ]
  },
  {
   "cell_type": "code",
   "execution_count": 42,
   "id": "43d026a9",
   "metadata": {},
   "outputs": [],
   "source": [
    "query = ty.Cursor(api.user_timeline, screen_name=twitter_handle, tweet_mode='extended', lang='en').items(5)"
   ]
  },
  {
   "cell_type": "code",
   "execution_count": 43,
   "id": "03056d3d",
   "metadata": {},
   "outputs": [
    {
     "name": "stderr",
     "output_type": "stream",
     "text": [
      "Unexpected parameter: lang\n"
     ]
    }
   ],
   "source": [
    "# organize tweets\n",
    "tweet_text, date_posted = [], []\n",
    "for tweet in query:\n",
    "    tweet_text.append(tweet.full_text)\n",
    "    date_posted.append(tweet.created_at)"
   ]
  },
  {
   "cell_type": "code",
   "execution_count": 44,
   "id": "934cfb74",
   "metadata": {},
   "outputs": [
    {
     "data": {
      "text/html": [
       "<div>\n",
       "<style scoped>\n",
       "    .dataframe tbody tr th:only-of-type {\n",
       "        vertical-align: middle;\n",
       "    }\n",
       "\n",
       "    .dataframe tbody tr th {\n",
       "        vertical-align: top;\n",
       "    }\n",
       "\n",
       "    .dataframe thead th {\n",
       "        text-align: right;\n",
       "    }\n",
       "</style>\n",
       "<table border=\"1\" class=\"dataframe\">\n",
       "  <thead>\n",
       "    <tr style=\"text-align: right;\">\n",
       "      <th></th>\n",
       "      <th>index</th>\n",
       "      <th>Tweets from nytimes</th>\n",
       "    </tr>\n",
       "  </thead>\n",
       "  <tbody>\n",
       "    <tr>\n",
       "      <th>0</th>\n",
       "      <td>2022-01-08 23:00:13+00:00</td>\n",
       "      <td>Here’s what you need to know from @wirecutter ...</td>\n",
       "    </tr>\n",
       "    <tr>\n",
       "      <th>1</th>\n",
       "      <td>2022-01-08 22:40:02+00:00</td>\n",
       "      <td>Skiing is an endangered sport, caught between ...</td>\n",
       "    </tr>\n",
       "    <tr>\n",
       "      <th>2</th>\n",
       "      <td>2022-01-08 22:34:56+00:00</td>\n",
       "      <td>Mariah Bell, who at 25 won her first U.S. nati...</td>\n",
       "    </tr>\n",
       "    <tr>\n",
       "      <th>3</th>\n",
       "      <td>2022-01-08 22:25:02+00:00</td>\n",
       "      <td>The Emmy-winning HBO teen drama “Euphoria,” st...</td>\n",
       "    </tr>\n",
       "    <tr>\n",
       "      <th>4</th>\n",
       "      <td>2022-01-08 22:23:43+00:00</td>\n",
       "      <td>RT @carolrosenberg: Latest: The Navy base at G...</td>\n",
       "    </tr>\n",
       "  </tbody>\n",
       "</table>\n",
       "</div>"
      ],
      "text/plain": [
       "                      index                                Tweets from nytimes\n",
       "0 2022-01-08 23:00:13+00:00  Here’s what you need to know from @wirecutter ...\n",
       "1 2022-01-08 22:40:02+00:00  Skiing is an endangered sport, caught between ...\n",
       "2 2022-01-08 22:34:56+00:00  Mariah Bell, who at 25 won her first U.S. nati...\n",
       "3 2022-01-08 22:25:02+00:00  The Emmy-winning HBO teen drama “Euphoria,” st...\n",
       "4 2022-01-08 22:23:43+00:00  RT @carolrosenberg: Latest: The Navy base at G..."
      ]
     },
     "execution_count": 44,
     "metadata": {},
     "output_type": "execute_result"
    }
   ],
   "source": [
    "# create dataframe using tweet_text & date_posted\n",
    "tweets = pd.DataFrame()\n",
    "tweet_column = 'Tweets from ' + twitter_handle\n",
    "tweets.insert(loc=0, column=tweet_column, value=tweet_text)\n",
    "tweets.index = date_posted\n",
    "tweets.reset_index(inplace=True)\n",
    "tweets"
   ]
  },
  {
   "cell_type": "code",
   "execution_count": 45,
   "id": "27bed2ec",
   "metadata": {
    "scrolled": false
   },
   "outputs": [
    {
     "name": "stderr",
     "output_type": "stream",
     "text": [
      "[nltk_data] Downloading package vader_lexicon to\n",
      "[nltk_data]     /Users/hamzarashid/nltk_data...\n",
      "[nltk_data]   Package vader_lexicon is already up-to-date!\n",
      "[nltk_data] Downloading package wordnet to\n",
      "[nltk_data]     /Users/hamzarashid/nltk_data...\n",
      "[nltk_data]   Package wordnet is already up-to-date!\n",
      "[nltk_data] Downloading package stopwords to\n",
      "[nltk_data]     /Users/hamzarashid/nltk_data...\n",
      "[nltk_data]   Package stopwords is already up-to-date!\n"
     ]
    }
   ],
   "source": [
    "# get common words from nltk.corpus\n",
    "nltk.download('vader_lexicon')\n",
    "nltk.download('wordnet')\n",
    "nltk.download('stopwords')\n",
    "common_words = stopwords.words('english')  # list of common words"
   ]
  },
  {
   "cell_type": "code",
   "execution_count": 46,
   "id": "99911157",
   "metadata": {},
   "outputs": [],
   "source": [
    "def clean_tweet(text):\n",
    "    tweet = text\n",
    "    to_replace = ['@[\\w]+', 'RT[\\s]+', '[^\\s\\w]', '#', 'http[\\w]+']\n",
    "\n",
    "    # remove keyword, @ mentions, RTs, ...\n",
    "    for character_sequence in to_replace:\n",
    "        tweet = re.sub(character_sequence, '', tweet)\n",
    "\n",
    "    # remove words that have no impact on sentiment measure\n",
    "    tweet = ' '.join(word for word in tweet.split() if word not in common_words)\n",
    "\n",
    "    # turn words into most basic form\n",
    "    tweet = ' '.join(Word(word).lemmatize() for word in tweet.split())\n",
    "\n",
    "    return tweet"
   ]
  },
  {
   "cell_type": "code",
   "execution_count": 47,
   "id": "3163ff6a",
   "metadata": {},
   "outputs": [
    {
     "data": {
      "text/html": [
       "<div>\n",
       "<style scoped>\n",
       "    .dataframe tbody tr th:only-of-type {\n",
       "        vertical-align: middle;\n",
       "    }\n",
       "\n",
       "    .dataframe tbody tr th {\n",
       "        vertical-align: top;\n",
       "    }\n",
       "\n",
       "    .dataframe thead th {\n",
       "        text-align: right;\n",
       "    }\n",
       "</style>\n",
       "<table border=\"1\" class=\"dataframe\">\n",
       "  <thead>\n",
       "    <tr style=\"text-align: right;\">\n",
       "      <th></th>\n",
       "      <th>index</th>\n",
       "      <th>Tweets from nytimes</th>\n",
       "    </tr>\n",
       "  </thead>\n",
       "  <tbody>\n",
       "    <tr>\n",
       "      <th>0</th>\n",
       "      <td>2022-01-08 23:00:13+00:00</td>\n",
       "      <td>Heres need know finding using rapid antigen te...</td>\n",
       "    </tr>\n",
       "    <tr>\n",
       "      <th>1</th>\n",
       "      <td>2022-01-08 22:40:02+00:00</td>\n",
       "      <td>Skiing endangered sport caught warming planet ...</td>\n",
       "    </tr>\n",
       "    <tr>\n",
       "      <th>2</th>\n",
       "      <td>2022-01-08 22:34:56+00:00</td>\n",
       "      <td>Mariah Bell 25 first US national figure skatin...</td>\n",
       "    </tr>\n",
       "    <tr>\n",
       "      <th>3</th>\n",
       "      <td>2022-01-08 22:25:02+00:00</td>\n",
       "      <td>The Emmywinning HBO teen drama Euphoria starri...</td>\n",
       "    </tr>\n",
       "    <tr>\n",
       "      <th>4</th>\n",
       "      <td>2022-01-08 22:23:43+00:00</td>\n",
       "      <td>Latest The Navy base Guantanamo Bay reached pa...</td>\n",
       "    </tr>\n",
       "  </tbody>\n",
       "</table>\n",
       "</div>"
      ],
      "text/plain": [
       "                      index                                Tweets from nytimes\n",
       "0 2022-01-08 23:00:13+00:00  Heres need know finding using rapid antigen te...\n",
       "1 2022-01-08 22:40:02+00:00  Skiing endangered sport caught warming planet ...\n",
       "2 2022-01-08 22:34:56+00:00  Mariah Bell 25 first US national figure skatin...\n",
       "3 2022-01-08 22:25:02+00:00  The Emmywinning HBO teen drama Euphoria starri...\n",
       "4 2022-01-08 22:23:43+00:00  Latest The Navy base Guantanamo Bay reached pa..."
      ]
     },
     "execution_count": 47,
     "metadata": {},
     "output_type": "execute_result"
    }
   ],
   "source": [
    "tweets[tweet_column] = tweets[tweet_column].apply(clean_tweet)\n",
    "tweets"
   ]
  },
  {
   "cell_type": "code",
   "execution_count": 48,
   "id": "91c67bc5",
   "metadata": {},
   "outputs": [
    {
     "data": {
      "text/plain": [
       "['Heres need know finding using rapid antigen test Covid19 useful though foolproof way protect others infection',\n",
       " 'Skiing endangered sport caught warming planet global pandemic But ski touring uphill skiing growing popularity Heres',\n",
       " 'Mariah Bell 25 first US national figure skating championship Friday earned spot Beijing Olympics next month become oldest American female Olympics single skater since 1928 See else made US team',\n",
       " 'The Emmywinning HBO teen drama Euphoria starring Zendaya come back second season Sunday But year since Season 1 ended Heres thing left',\n",
       " 'Latest The Navy base Guantanamo Bay reached pandemic high 69 resident active confirmed positive cor']"
      ]
     },
     "execution_count": 48,
     "metadata": {},
     "output_type": "execute_result"
    }
   ],
   "source": [
    "tweet_list = list(tweets[tweet_column])\n",
    "tweet_list"
   ]
  },
  {
   "cell_type": "code",
   "execution_count": 49,
   "id": "c5cbccb9",
   "metadata": {},
   "outputs": [],
   "source": [
    "sia = SentimentIntensityAnalyzer()\n",
    "\n",
    "def objectivity_scores(tweet):\n",
    "\n",
    "    textblob_objectivity = 1 - TB(tweet).sentiment.subjectivity\n",
    "    vader_objectivity = sia.polarity_scores(tweet).get('neu')\n",
    "    avg_objectivity = (textblob_objectivity + vader_objectivity) / 2\n",
    "\n",
    "    return textblob_objectivity, vader_objectivity, avg_objectivity"
   ]
  },
  {
   "cell_type": "code",
   "execution_count": 51,
   "id": "7fe78264",
   "metadata": {},
   "outputs": [],
   "source": [
    "o_scores = [objectivity_scores(tweet) for tweet in tweets[tweet_column]]\n",
    "tb_scores, vdr_scores, avg_scores = [], [], []\n",
    "for tb_score, vdr_score, avg_score in o_scores:\n",
    "    tb_scores.append(tb_score)\n",
    "    vdr_scores.append(vdr_score)\n",
    "    avg_scores.append(avg_score)"
   ]
  },
  {
   "cell_type": "code",
   "execution_count": 57,
   "id": "0930b358",
   "metadata": {},
   "outputs": [
    {
     "data": {
      "text/html": [
       "<div>\n",
       "<style scoped>\n",
       "    .dataframe tbody tr th:only-of-type {\n",
       "        vertical-align: middle;\n",
       "    }\n",
       "\n",
       "    .dataframe tbody tr th {\n",
       "        vertical-align: top;\n",
       "    }\n",
       "\n",
       "    .dataframe thead th {\n",
       "        text-align: right;\n",
       "    }\n",
       "</style>\n",
       "<table border=\"1\" class=\"dataframe\">\n",
       "  <thead>\n",
       "    <tr style=\"text-align: right;\">\n",
       "      <th></th>\n",
       "      <th>0</th>\n",
       "      <th>1</th>\n",
       "      <th>2</th>\n",
       "    </tr>\n",
       "  </thead>\n",
       "  <tbody>\n",
       "    <tr>\n",
       "      <th>0</th>\n",
       "      <td>1.000000</td>\n",
       "      <td>0.616</td>\n",
       "      <td>0.808000</td>\n",
       "    </tr>\n",
       "    <tr>\n",
       "      <th>1</th>\n",
       "      <td>1.000000</td>\n",
       "      <td>0.634</td>\n",
       "      <td>0.817000</td>\n",
       "    </tr>\n",
       "    <tr>\n",
       "      <th>2</th>\n",
       "      <td>0.857143</td>\n",
       "      <td>0.909</td>\n",
       "      <td>0.883071</td>\n",
       "    </tr>\n",
       "    <tr>\n",
       "      <th>3</th>\n",
       "      <td>1.000000</td>\n",
       "      <td>0.883</td>\n",
       "      <td>0.941500</td>\n",
       "    </tr>\n",
       "    <tr>\n",
       "      <th>4</th>\n",
       "      <td>0.235758</td>\n",
       "      <td>0.609</td>\n",
       "      <td>0.422379</td>\n",
       "    </tr>\n",
       "  </tbody>\n",
       "</table>\n",
       "</div>"
      ],
      "text/plain": [
       "          0      1         2\n",
       "0  1.000000  0.616  0.808000\n",
       "1  1.000000  0.634  0.817000\n",
       "2  0.857143  0.909  0.883071\n",
       "3  1.000000  0.883  0.941500\n",
       "4  0.235758  0.609  0.422379"
      ]
     },
     "execution_count": 57,
     "metadata": {},
     "output_type": "execute_result"
    }
   ],
   "source": [
    "tweets['TextBlob Objectivity Score'] = tb_scores\n",
    "tweets['Vader Objectivity Score'] = vdr_scores\n",
    "tweets['Average Objectivity Score'] = avg_scores\n",
    "pd.DataFrame(o_scores)"
   ]
  },
  {
   "cell_type": "code",
   "execution_count": 56,
   "id": "c8efc05d",
   "metadata": {},
   "outputs": [
    {
     "data": {
      "text/html": [
       "<div>\n",
       "<style scoped>\n",
       "    .dataframe tbody tr th:only-of-type {\n",
       "        vertical-align: middle;\n",
       "    }\n",
       "\n",
       "    .dataframe tbody tr th {\n",
       "        vertical-align: top;\n",
       "    }\n",
       "\n",
       "    .dataframe thead th {\n",
       "        text-align: right;\n",
       "    }\n",
       "</style>\n",
       "<table border=\"1\" class=\"dataframe\">\n",
       "  <thead>\n",
       "    <tr style=\"text-align: right;\">\n",
       "      <th></th>\n",
       "      <th>index</th>\n",
       "      <th>Tweets from nytimes</th>\n",
       "      <th>TextBlob Objectivity Score</th>\n",
       "      <th>Vader Objectivity Score</th>\n",
       "      <th>Average Objectivity Score</th>\n",
       "    </tr>\n",
       "  </thead>\n",
       "  <tbody>\n",
       "    <tr>\n",
       "      <th>0</th>\n",
       "      <td>2022-01-08 23:00:13+00:00</td>\n",
       "      <td>Heres need know finding using rapid antigen te...</td>\n",
       "      <td>1.000000</td>\n",
       "      <td>0.616</td>\n",
       "      <td>0.808000</td>\n",
       "    </tr>\n",
       "    <tr>\n",
       "      <th>1</th>\n",
       "      <td>2022-01-08 22:40:02+00:00</td>\n",
       "      <td>Skiing endangered sport caught warming planet ...</td>\n",
       "      <td>1.000000</td>\n",
       "      <td>0.634</td>\n",
       "      <td>0.817000</td>\n",
       "    </tr>\n",
       "    <tr>\n",
       "      <th>2</th>\n",
       "      <td>2022-01-08 22:34:56+00:00</td>\n",
       "      <td>Mariah Bell 25 first US national figure skatin...</td>\n",
       "      <td>0.857143</td>\n",
       "      <td>0.909</td>\n",
       "      <td>0.883071</td>\n",
       "    </tr>\n",
       "    <tr>\n",
       "      <th>3</th>\n",
       "      <td>2022-01-08 22:25:02+00:00</td>\n",
       "      <td>The Emmywinning HBO teen drama Euphoria starri...</td>\n",
       "      <td>1.000000</td>\n",
       "      <td>0.883</td>\n",
       "      <td>0.941500</td>\n",
       "    </tr>\n",
       "    <tr>\n",
       "      <th>4</th>\n",
       "      <td>2022-01-08 22:23:43+00:00</td>\n",
       "      <td>Latest The Navy base Guantanamo Bay reached pa...</td>\n",
       "      <td>0.235758</td>\n",
       "      <td>0.609</td>\n",
       "      <td>0.422379</td>\n",
       "    </tr>\n",
       "  </tbody>\n",
       "</table>\n",
       "</div>"
      ],
      "text/plain": [
       "                      index  \\\n",
       "0 2022-01-08 23:00:13+00:00   \n",
       "1 2022-01-08 22:40:02+00:00   \n",
       "2 2022-01-08 22:34:56+00:00   \n",
       "3 2022-01-08 22:25:02+00:00   \n",
       "4 2022-01-08 22:23:43+00:00   \n",
       "\n",
       "                                 Tweets from nytimes  \\\n",
       "0  Heres need know finding using rapid antigen te...   \n",
       "1  Skiing endangered sport caught warming planet ...   \n",
       "2  Mariah Bell 25 first US national figure skatin...   \n",
       "3  The Emmywinning HBO teen drama Euphoria starri...   \n",
       "4  Latest The Navy base Guantanamo Bay reached pa...   \n",
       "\n",
       "   TextBlob Objectivity Score  Vader Objectivity Score  \\\n",
       "0                    1.000000                    0.616   \n",
       "1                    1.000000                    0.634   \n",
       "2                    0.857143                    0.909   \n",
       "3                    1.000000                    0.883   \n",
       "4                    0.235758                    0.609   \n",
       "\n",
       "   Average Objectivity Score  \n",
       "0                   0.808000  \n",
       "1                   0.817000  \n",
       "2                   0.883071  \n",
       "3                   0.941500  \n",
       "4                   0.422379  "
      ]
     },
     "execution_count": 56,
     "metadata": {},
     "output_type": "execute_result"
    }
   ],
   "source": [
    "tweets"
   ]
  },
  {
   "cell_type": "code",
   "execution_count": null,
   "id": "77ccfca2",
   "metadata": {},
   "outputs": [],
   "source": []
  }
 ],
 "metadata": {
  "kernelspec": {
   "display_name": "Python 3 (ipykernel)",
   "language": "python",
   "name": "python3"
  },
  "language_info": {
   "codemirror_mode": {
    "name": "ipython",
    "version": 3
   },
   "file_extension": ".py",
   "mimetype": "text/x-python",
   "name": "python",
   "nbconvert_exporter": "python",
   "pygments_lexer": "ipython3",
   "version": "3.9.9"
  }
 },
 "nbformat": 4,
 "nbformat_minor": 5
}
