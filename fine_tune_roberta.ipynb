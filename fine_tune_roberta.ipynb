{
 "cells": [
  {
   "cell_type": "code",
   "execution_count": 1,
   "id": "fbab4b99",
   "metadata": {},
   "outputs": [],
   "source": [
    "import pandas as pd"
   ]
  },
  {
   "cell_type": "code",
   "execution_count": 2,
   "id": "5cba7249",
   "metadata": {},
   "outputs": [],
   "source": [
    "def remove_duplicates(list_):\n",
    "    collect = set()\n",
    "    for item in list_:\n",
    "        if item not in collect:\n",
    "            collect.add(item)\n",
    "    collect = list(collect)\n",
    "    return collect"
   ]
  },
  {
   "cell_type": "code",
   "execution_count": 3,
   "id": "e9affcc6",
   "metadata": {},
   "outputs": [],
   "source": [
    "movie_reviews = pd.read_csv('IMDB Dataset.csv').filter(['review'])\n",
    "\n",
    "reviews = list(movie_reviews['review'])\n",
    "reviews = remove_duplicates(reviews)"
   ]
  },
  {
   "cell_type": "code",
   "execution_count": 4,
   "id": "36afaf38",
   "metadata": {
    "scrolled": true
   },
   "outputs": [
    {
     "data": {
      "text/plain": [
       "49582"
      ]
     },
     "execution_count": 4,
     "metadata": {},
     "output_type": "execute_result"
    }
   ],
   "source": [
    "len(reviews)"
   ]
  },
  {
   "cell_type": "code",
   "execution_count": 6,
   "id": "20997bd0",
   "metadata": {},
   "outputs": [],
   "source": [
    "movie_synopses = pd.read_csv(r'movies_metadata.csv', low_memory=False).filter(['overview'])\n",
    "\n",
    "synopses = list(movie_synopses['overview'])\n",
    "synopses = remove_duplicates(synopses)"
   ]
  },
  {
   "cell_type": "code",
   "execution_count": 7,
   "id": "2ffa77ad",
   "metadata": {},
   "outputs": [],
   "source": [
    "reviews = list(filter(lambda x: not pd.isna(x), reviews))\n",
    "synopses = list(filter(lambda x: not pd.isna(x), synopses))"
   ]
  },
  {
   "cell_type": "code",
   "execution_count": 8,
   "id": "5614f46a",
   "metadata": {},
   "outputs": [
    {
     "name": "stdout",
     "output_type": "stream",
     "text": [
      "49582 44307\n"
     ]
    }
   ],
   "source": [
    "print(len(reviews), len(synopses))"
   ]
  },
  {
   "cell_type": "code",
   "execution_count": 9,
   "id": "8e6fde22",
   "metadata": {},
   "outputs": [],
   "source": [
    "# down sample reviews\n",
    "reviews = reviews[:len(synopses)]"
   ]
  },
  {
   "cell_type": "code",
   "execution_count": 10,
   "id": "25360437",
   "metadata": {
    "scrolled": false
   },
   "outputs": [
    {
     "data": {
      "text/plain": [
       "(True, 44307, 44307)"
      ]
     },
     "execution_count": 10,
     "metadata": {},
     "output_type": "execute_result"
    }
   ],
   "source": [
    "len(reviews) == len(synopses), len(reviews), len(synopses)"
   ]
  },
  {
   "cell_type": "code",
   "execution_count": 11,
   "id": "5dc92189",
   "metadata": {},
   "outputs": [
    {
     "data": {
      "text/plain": [
       "(88614, 44307.0, 44307, 44307)"
      ]
     },
     "execution_count": 11,
     "metadata": {},
     "output_type": "execute_result"
    }
   ],
   "source": [
    "data = reviews + synopses\n",
    "len(data), len(data)/2, len(synopses), len(reviews)"
   ]
  },
  {
   "cell_type": "code",
   "execution_count": 12,
   "id": "5f30d522",
   "metadata": {
    "scrolled": true
   },
   "outputs": [
    {
     "data": {
      "text/plain": [
       "88614"
      ]
     },
     "execution_count": 12,
     "metadata": {},
     "output_type": "execute_result"
    }
   ],
   "source": [
    "# reduce no. characters to 240 -- like Twitter, & speeds up training\n",
    "data = [text[:240] for text in data]\n",
    "len(data)"
   ]
  },
  {
   "cell_type": "code",
   "execution_count": 17,
   "id": "7a713cbd",
   "metadata": {},
   "outputs": [],
   "source": [
    "# size = len(data)\n",
    "labeled_reviews = [(data[i], 'Subjective') for i in range(len(reviews))]\n",
    "labeled_synopses = [(data[i], 'Objective') for i in range(len(synopses))]"
   ]
  },
  {
   "cell_type": "code",
   "execution_count": 18,
   "id": "d4dd9389",
   "metadata": {},
   "outputs": [],
   "source": [
    "size = len(data)\n",
    "labeled_data = []\n",
    "\n",
    "for i in range(size):\n",
    "    if i < size/2:\n",
    "        labeled_data.append((data[i], 'Subjective'))\n",
    "    else:\n",
    "        labeled_data.append((data[i], 'Objective'))"
   ]
  },
  {
   "cell_type": "code",
   "execution_count": 19,
   "id": "c21d37ba",
   "metadata": {},
   "outputs": [
    {
     "data": {
      "text/plain": [
       "88588"
      ]
     },
     "execution_count": 19,
     "metadata": {},
     "output_type": "execute_result"
    }
   ],
   "source": [
    "labeled_data = remove_duplicates(labeled_data)\n",
    "len(labeled_data)"
   ]
  },
  {
   "cell_type": "code",
   "execution_count": 15,
   "id": "65353dbb",
   "metadata": {
    "scrolled": false
   },
   "outputs": [],
   "source": [
    "# len(labeled_reviews), len(labeled_synopses), len(labeled_reviews) + len(labeled_synopses)"
   ]
  },
  {
   "cell_type": "code",
   "execution_count": 14,
   "id": "cb87353b",
   "metadata": {},
   "outputs": [],
   "source": [
    "# duplicates occur again, some text are indentical for the first 240 characters\n",
    "# labeled_reviews = remove_duplicates(labeled_reviews)\n",
    "# labeled_synopses = remove_duplicates(labeled_synopses)"
   ]
  },
  {
   "cell_type": "code",
   "execution_count": 20,
   "id": "02914923",
   "metadata": {
    "scrolled": true
   },
   "outputs": [
    {
     "data": {
      "text/plain": [
       "(44307, 44307, 88614)"
      ]
     },
     "execution_count": 20,
     "metadata": {},
     "output_type": "execute_result"
    }
   ],
   "source": [
    "len(labeled_reviews), len(labeled_synopses), len(labeled_reviews) + len(labeled_synopses)"
   ]
  },
  {
   "cell_type": "code",
   "execution_count": 16,
   "id": "1ba5c640",
   "metadata": {},
   "outputs": [
    {
     "data": {
      "text/plain": [
       "(44283, 44283, 88566)"
      ]
     },
     "execution_count": 16,
     "metadata": {},
     "output_type": "execute_result"
    }
   ],
   "source": [
    "# labeled_synopses = labeled_synopses[:len(labeled_reviews)]\n",
    "# len(labeled_reviews), len(labeled_synopses), len(labeled_reviews) + len(labeled_synopses)"
   ]
  },
  {
   "cell_type": "code",
   "execution_count": 17,
   "id": "239cee1b",
   "metadata": {},
   "outputs": [],
   "source": [
    "# from random import shuffle\n",
    "# shuffle(labeled_reviews)\n",
    "# shuffle(labeled_synopses)"
   ]
  },
  {
   "cell_type": "code",
   "execution_count": 18,
   "id": "cd9ad5f5",
   "metadata": {},
   "outputs": [],
   "source": [
    "# labeled_data = labeled_reviews + labeled_synopses"
   ]
  },
  {
   "cell_type": "code",
   "execution_count": 22,
   "id": "2050f6bc",
   "metadata": {},
   "outputs": [],
   "source": [
    "from random import shuffle\n",
    "shuffle(labeled_data)"
   ]
  },
  {
   "cell_type": "code",
   "execution_count": 23,
   "id": "43af4f19",
   "metadata": {},
   "outputs": [],
   "source": [
    "df = pd.DataFrame(labeled_data)"
   ]
  },
  {
   "cell_type": "code",
   "execution_count": 24,
   "id": "cc211c29",
   "metadata": {
    "scrolled": true
   },
   "outputs": [
    {
     "data": {
      "text/html": [
       "<div>\n",
       "<style scoped>\n",
       "    .dataframe tbody tr th:only-of-type {\n",
       "        vertical-align: middle;\n",
       "    }\n",
       "\n",
       "    .dataframe tbody tr th {\n",
       "        vertical-align: top;\n",
       "    }\n",
       "\n",
       "    .dataframe thead th {\n",
       "        text-align: right;\n",
       "    }\n",
       "</style>\n",
       "<table border=\"1\" class=\"dataframe\">\n",
       "  <thead>\n",
       "    <tr style=\"text-align: right;\">\n",
       "      <th></th>\n",
       "      <th>0</th>\n",
       "      <th>1</th>\n",
       "    </tr>\n",
       "  </thead>\n",
       "  <tbody>\n",
       "    <tr>\n",
       "      <th>0</th>\n",
       "      <td>I found myself getting increasingly angry as t...</td>\n",
       "      <td>Subjective</td>\n",
       "    </tr>\n",
       "    <tr>\n",
       "      <th>1</th>\n",
       "      <td>A group of 7 youngsters-4 guys and 3 girls dec...</td>\n",
       "      <td>Objective</td>\n",
       "    </tr>\n",
       "    <tr>\n",
       "      <th>2</th>\n",
       "      <td>The ultimate X-Men ensemble fights a war for t...</td>\n",
       "      <td>Objective</td>\n",
       "    </tr>\n",
       "    <tr>\n",
       "      <th>3</th>\n",
       "      <td>Irene, a thirty-something housewife with a suc...</td>\n",
       "      <td>Objective</td>\n",
       "    </tr>\n",
       "    <tr>\n",
       "      <th>4</th>\n",
       "      <td>A cop investigates the shooting of another pol...</td>\n",
       "      <td>Objective</td>\n",
       "    </tr>\n",
       "  </tbody>\n",
       "</table>\n",
       "</div>"
      ],
      "text/plain": [
       "                                                   0           1\n",
       "0  I found myself getting increasingly angry as t...  Subjective\n",
       "1  A group of 7 youngsters-4 guys and 3 girls dec...   Objective\n",
       "2  The ultimate X-Men ensemble fights a war for t...   Objective\n",
       "3  Irene, a thirty-something housewife with a suc...   Objective\n",
       "4  A cop investigates the shooting of another pol...   Objective"
      ]
     },
     "execution_count": 24,
     "metadata": {},
     "output_type": "execute_result"
    }
   ],
   "source": [
    "df.head()"
   ]
  },
  {
   "cell_type": "code",
   "execution_count": 25,
   "id": "5c972101",
   "metadata": {},
   "outputs": [
    {
     "data": {
      "text/html": [
       "<div>\n",
       "<style scoped>\n",
       "    .dataframe tbody tr th:only-of-type {\n",
       "        vertical-align: middle;\n",
       "    }\n",
       "\n",
       "    .dataframe tbody tr th {\n",
       "        vertical-align: top;\n",
       "    }\n",
       "\n",
       "    .dataframe thead th {\n",
       "        text-align: right;\n",
       "    }\n",
       "</style>\n",
       "<table border=\"1\" class=\"dataframe\">\n",
       "  <thead>\n",
       "    <tr style=\"text-align: right;\">\n",
       "      <th></th>\n",
       "      <th>0</th>\n",
       "      <th>1</th>\n",
       "    </tr>\n",
       "  </thead>\n",
       "  <tbody>\n",
       "    <tr>\n",
       "      <th>88583</th>\n",
       "      <td>Did this gem go direct to video? Fabulous art ...</td>\n",
       "      <td>Subjective</td>\n",
       "    </tr>\n",
       "    <tr>\n",
       "      <th>88584</th>\n",
       "      <td>and there are not many in cinema history. \"Rou...</td>\n",
       "      <td>Subjective</td>\n",
       "    </tr>\n",
       "    <tr>\n",
       "      <th>88585</th>\n",
       "      <td>A 24 hour period in the lives of Fausto and Je...</td>\n",
       "      <td>Objective</td>\n",
       "    </tr>\n",
       "    <tr>\n",
       "      <th>88586</th>\n",
       "      <td>Ten people are invited for a weekend by a Mr U...</td>\n",
       "      <td>Objective</td>\n",
       "    </tr>\n",
       "    <tr>\n",
       "      <th>88587</th>\n",
       "      <td>A disabled man yearns for intimacy in a world ...</td>\n",
       "      <td>Objective</td>\n",
       "    </tr>\n",
       "  </tbody>\n",
       "</table>\n",
       "</div>"
      ],
      "text/plain": [
       "                                                       0           1\n",
       "88583  Did this gem go direct to video? Fabulous art ...  Subjective\n",
       "88584  and there are not many in cinema history. \"Rou...  Subjective\n",
       "88585  A 24 hour period in the lives of Fausto and Je...   Objective\n",
       "88586  Ten people are invited for a weekend by a Mr U...   Objective\n",
       "88587  A disabled man yearns for intimacy in a world ...   Objective"
      ]
     },
     "execution_count": 25,
     "metadata": {},
     "output_type": "execute_result"
    }
   ],
   "source": [
    "df.tail()"
   ]
  },
  {
   "cell_type": "code",
   "execution_count": 26,
   "id": "dce35054",
   "metadata": {},
   "outputs": [],
   "source": [
    "df = df.rename(columns={0:'Text', 1:'Labels'})"
   ]
  },
  {
   "cell_type": "code",
   "execution_count": 27,
   "id": "187af9a5",
   "metadata": {
    "scrolled": true
   },
   "outputs": [
    {
     "data": {
      "text/html": [
       "<div>\n",
       "<style scoped>\n",
       "    .dataframe tbody tr th:only-of-type {\n",
       "        vertical-align: middle;\n",
       "    }\n",
       "\n",
       "    .dataframe tbody tr th {\n",
       "        vertical-align: top;\n",
       "    }\n",
       "\n",
       "    .dataframe thead th {\n",
       "        text-align: right;\n",
       "    }\n",
       "</style>\n",
       "<table border=\"1\" class=\"dataframe\">\n",
       "  <thead>\n",
       "    <tr style=\"text-align: right;\">\n",
       "      <th></th>\n",
       "      <th>Text</th>\n",
       "      <th>Labels</th>\n",
       "    </tr>\n",
       "  </thead>\n",
       "  <tbody>\n",
       "    <tr>\n",
       "      <th>0</th>\n",
       "      <td>I found myself getting increasingly angry as t...</td>\n",
       "      <td>Subjective</td>\n",
       "    </tr>\n",
       "    <tr>\n",
       "      <th>1</th>\n",
       "      <td>A group of 7 youngsters-4 guys and 3 girls dec...</td>\n",
       "      <td>Objective</td>\n",
       "    </tr>\n",
       "    <tr>\n",
       "      <th>2</th>\n",
       "      <td>The ultimate X-Men ensemble fights a war for t...</td>\n",
       "      <td>Objective</td>\n",
       "    </tr>\n",
       "    <tr>\n",
       "      <th>3</th>\n",
       "      <td>Irene, a thirty-something housewife with a suc...</td>\n",
       "      <td>Objective</td>\n",
       "    </tr>\n",
       "    <tr>\n",
       "      <th>4</th>\n",
       "      <td>A cop investigates the shooting of another pol...</td>\n",
       "      <td>Objective</td>\n",
       "    </tr>\n",
       "  </tbody>\n",
       "</table>\n",
       "</div>"
      ],
      "text/plain": [
       "                                                Text      Labels\n",
       "0  I found myself getting increasingly angry as t...  Subjective\n",
       "1  A group of 7 youngsters-4 guys and 3 girls dec...   Objective\n",
       "2  The ultimate X-Men ensemble fights a war for t...   Objective\n",
       "3  Irene, a thirty-something housewife with a suc...   Objective\n",
       "4  A cop investigates the shooting of another pol...   Objective"
      ]
     },
     "execution_count": 27,
     "metadata": {},
     "output_type": "execute_result"
    }
   ],
   "source": [
    "df.head()"
   ]
  },
  {
   "cell_type": "code",
   "execution_count": 28,
   "id": "19a1bd72",
   "metadata": {},
   "outputs": [
    {
     "data": {
      "text/plain": [
       "(88588,)"
      ]
     },
     "execution_count": 28,
     "metadata": {},
     "output_type": "execute_result"
    }
   ],
   "source": [
    "df['Text'].shape"
   ]
  },
  {
   "cell_type": "code",
   "execution_count": 29,
   "id": "5837d98c",
   "metadata": {},
   "outputs": [],
   "source": [
    "import numpy as np\n",
    "from sklearn.model_selection import train_test_split"
   ]
  },
  {
   "cell_type": "code",
   "execution_count": 30,
   "id": "f357ffd4",
   "metadata": {},
   "outputs": [],
   "source": [
    "# split data into train, validtion, and test sets\n",
    "\n",
    "X_train, X_rem, y_train, y_rem = train_test_split(df['Text'], df['Labels'], train_size = 0.8, random_state = 24)\n",
    "\n",
    "X_valid, X_test, y_valid, y_test = train_test_split(X_rem, y_rem, test_size = 0.5, random_state = 24)"
   ]
  },
  {
   "cell_type": "code",
   "execution_count": null,
   "id": "fea9582a",
   "metadata": {},
   "outputs": [],
   "source": []
  },
  {
   "cell_type": "code",
   "execution_count": null,
   "id": "98f26778",
   "metadata": {},
   "outputs": [],
   "source": [
    "from transformers import AutoTokenizer"
   ]
  },
  {
   "cell_type": "code",
   "execution_count": null,
   "id": "ceb0da90",
   "metadata": {},
   "outputs": [],
   "source": [
    "# use roberta base sentiment model\n",
    "rbs_model = f'cardiffnlp/twitter-roberta-base-sentiment'\n",
    "tokenizer = AutoTokenizer.from_pretrained(rbs_model)"
   ]
  },
  {
   "cell_type": "code",
   "execution_count": null,
   "id": "42ecc866",
   "metadata": {},
   "outputs": [],
   "source": [
    "model = AutoModelForSequenceClassification.from_pretrained(rbs_model)\n",
    "model.save_pretrained(rbs_model)\n",
    "tokenizer.save_pretrained(rbs_model)"
   ]
  },
  {
   "cell_type": "code",
   "execution_count": null,
   "id": "dd4ec5fd",
   "metadata": {},
   "outputs": [],
   "source": []
  }
 ],
 "metadata": {
  "kernelspec": {
   "display_name": "Python 3 (ipykernel)",
   "language": "python",
   "name": "python3"
  },
  "language_info": {
   "codemirror_mode": {
    "name": "ipython",
    "version": 3
   },
   "file_extension": ".py",
   "mimetype": "text/x-python",
   "name": "python",
   "nbconvert_exporter": "python",
   "pygments_lexer": "ipython3",
   "version": "3.9.7"
  }
 },
 "nbformat": 4,
 "nbformat_minor": 5
}
