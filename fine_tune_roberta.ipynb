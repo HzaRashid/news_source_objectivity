{
 "cells": [
  {
   "cell_type": "code",
   "execution_count": 1,
   "id": "fbab4b99",
   "metadata": {},
   "outputs": [],
   "source": [
    "import pandas as pd"
   ]
  },
  {
   "cell_type": "code",
   "execution_count": 2,
   "id": "48e44e50",
   "metadata": {},
   "outputs": [],
   "source": [
    "movie_reviews = pd.read_csv('IMDB Dataset.csv').filter(['review'])"
   ]
  },
  {
   "cell_type": "code",
   "execution_count": 3,
   "id": "5cba7249",
   "metadata": {},
   "outputs": [],
   "source": [
    "def remove_duplicates(list_):\n",
    "    collect = set()\n",
    "    for item in list_:\n",
    "        if item not in collect:\n",
    "            collect.add(item)\n",
    "    collect = list(collect)\n",
    "    return collect"
   ]
  },
  {
   "cell_type": "code",
   "execution_count": 4,
   "id": "e9affcc6",
   "metadata": {},
   "outputs": [],
   "source": [
    "reviews = list(movie_reviews['review'])\n",
    "reviews = remove_duplicates(reviews)"
   ]
  },
  {
   "cell_type": "code",
   "execution_count": 5,
   "id": "36afaf38",
   "metadata": {
    "scrolled": true
   },
   "outputs": [
    {
     "data": {
      "text/plain": [
       "49582"
      ]
     },
     "execution_count": 5,
     "metadata": {},
     "output_type": "execute_result"
    }
   ],
   "source": [
    "len(reviews)"
   ]
  },
  {
   "cell_type": "code",
   "execution_count": 8,
   "id": "20997bd0",
   "metadata": {},
   "outputs": [],
   "source": [
    "movie_synopses = pd.read_csv(r'movies_metadata.csv', low_memory=False, dtype='string').filter(['overview'])\n",
    "synopses = list(movie_synopses['overview'])\n",
    "synopses = remove_duplicates(synopses)"
   ]
  },
  {
   "cell_type": "code",
   "execution_count": 9,
   "id": "2ffa77ad",
   "metadata": {},
   "outputs": [],
   "source": [
    "reviews = list(filter(lambda x: not pd.isna(x), reviews))\n",
    "synopses = list(filter(lambda x: not pd.isna(x), synopses))"
   ]
  },
  {
   "cell_type": "code",
   "execution_count": 10,
   "id": "5614f46a",
   "metadata": {},
   "outputs": [
    {
     "name": "stdout",
     "output_type": "stream",
     "text": [
      "49582 44307\n"
     ]
    }
   ],
   "source": [
    "print(len(reviews), len(synopses))"
   ]
  },
  {
   "cell_type": "code",
   "execution_count": 11,
   "id": "8e6fde22",
   "metadata": {},
   "outputs": [],
   "source": [
    "# down sample reviews\n",
    "reviews = reviews[:len(synopses)]"
   ]
  },
  {
   "cell_type": "code",
   "execution_count": 12,
   "id": "25360437",
   "metadata": {
    "scrolled": true
   },
   "outputs": [
    {
     "data": {
      "text/plain": [
       "(True, 44307, 44307)"
      ]
     },
     "execution_count": 12,
     "metadata": {},
     "output_type": "execute_result"
    }
   ],
   "source": [
    "len(reviews) == len(synopses), len(reviews), len(synopses)"
   ]
  },
  {
   "cell_type": "code",
   "execution_count": 13,
   "id": "5dc92189",
   "metadata": {},
   "outputs": [
    {
     "data": {
      "text/plain": [
       "(88614, 44307.0, 44307, 44307)"
      ]
     },
     "execution_count": 13,
     "metadata": {},
     "output_type": "execute_result"
    }
   ],
   "source": [
    "data = reviews + synopses\n",
    "len(data), len(data)/2, len(synopses), len(reviews)"
   ]
  },
  {
   "cell_type": "code",
   "execution_count": 14,
   "id": "5f30d522",
   "metadata": {
    "scrolled": true
   },
   "outputs": [
    {
     "data": {
      "text/plain": [
       "88614"
      ]
     },
     "execution_count": 14,
     "metadata": {},
     "output_type": "execute_result"
    }
   ],
   "source": [
    "# reduce no. characters to 240 (like Twitter, and to speed up training)\n",
    "data = [text[:240] for text in data]\n",
    "len(data)"
   ]
  },
  {
   "cell_type": "markdown",
   "id": "80b8f478",
   "metadata": {},
   "source": [
    "##### Duplicates occur again since some reviews/synopses might be the same for the first 240 characters"
   ]
  },
  {
   "cell_type": "code",
   "execution_count": 15,
   "id": "7a713cbd",
   "metadata": {},
   "outputs": [],
   "source": [
    "size = len(data)\n",
    "labeled_reviews = [(data[i], 'Subjective') for i in range(int(size/2))]\n",
    "labeled_synopses = [(data[i], 'Objective') for i in range(int(size/2), size)]\n",
    "# labeled_data.append( (data[i], 'Objective') for i in range(int(size/2), size) )"
   ]
  },
  {
   "cell_type": "code",
   "execution_count": 16,
   "id": "65353dbb",
   "metadata": {
    "scrolled": true
   },
   "outputs": [
    {
     "data": {
      "text/plain": [
       "(44307, 44307, 88614)"
      ]
     },
     "execution_count": 16,
     "metadata": {},
     "output_type": "execute_result"
    }
   ],
   "source": [
    "len(labeled_reviews), len(labeled_synopses), len(labeled_reviews) + len(labeled_synopses)"
   ]
  },
  {
   "cell_type": "code",
   "execution_count": 17,
   "id": "cb87353b",
   "metadata": {},
   "outputs": [],
   "source": [
    "labeled_reviews = remove_duplicates(labeled_reviews)\n",
    "labeled_synopses = remove_duplicates(labeled_synopses)"
   ]
  },
  {
   "cell_type": "code",
   "execution_count": 18,
   "id": "02914923",
   "metadata": {},
   "outputs": [
    {
     "data": {
      "text/plain": [
       "(44285, 44303, 88588)"
      ]
     },
     "execution_count": 18,
     "metadata": {},
     "output_type": "execute_result"
    }
   ],
   "source": [
    "len(labeled_reviews), len(labeled_synopses), len(labeled_reviews) + len(labeled_synopses)"
   ]
  },
  {
   "cell_type": "code",
   "execution_count": 19,
   "id": "239cee1b",
   "metadata": {},
   "outputs": [],
   "source": [
    "from random import shuffle\n",
    "shuffle(labeled_reviews)\n",
    "shuffle(labeled_synopses)"
   ]
  },
  {
   "cell_type": "code",
   "execution_count": 20,
   "id": "cd9ad5f5",
   "metadata": {},
   "outputs": [],
   "source": [
    "labeled_data = labeled_reviews + labeled_synopses"
   ]
  },
  {
   "cell_type": "code",
   "execution_count": 22,
   "id": "2050f6bc",
   "metadata": {},
   "outputs": [],
   "source": [
    "shuffle(labeled_data)"
   ]
  },
  {
   "cell_type": "code",
   "execution_count": 26,
   "id": "43af4f19",
   "metadata": {},
   "outputs": [],
   "source": [
    "df = pd.DataFrame(labeled_data)"
   ]
  },
  {
   "cell_type": "code",
   "execution_count": 27,
   "id": "cc211c29",
   "metadata": {},
   "outputs": [
    {
     "data": {
      "text/html": [
       "<div>\n",
       "<style scoped>\n",
       "    .dataframe tbody tr th:only-of-type {\n",
       "        vertical-align: middle;\n",
       "    }\n",
       "\n",
       "    .dataframe tbody tr th {\n",
       "        vertical-align: top;\n",
       "    }\n",
       "\n",
       "    .dataframe thead th {\n",
       "        text-align: right;\n",
       "    }\n",
       "</style>\n",
       "<table border=\"1\" class=\"dataframe\">\n",
       "  <thead>\n",
       "    <tr style=\"text-align: right;\">\n",
       "      <th></th>\n",
       "      <th>0</th>\n",
       "      <th>1</th>\n",
       "    </tr>\n",
       "  </thead>\n",
       "  <tbody>\n",
       "    <tr>\n",
       "      <th>0</th>\n",
       "      <td>This film, for an after school special, isn't ...</td>\n",
       "      <td>Subjective</td>\n",
       "    </tr>\n",
       "    <tr>\n",
       "      <th>1</th>\n",
       "      <td>Dictated by thin experience (of both life and ...</td>\n",
       "      <td>Subjective</td>\n",
       "    </tr>\n",
       "    <tr>\n",
       "      <th>2</th>\n",
       "      <td>This focuses around the lives of four women, a...</td>\n",
       "      <td>Subjective</td>\n",
       "    </tr>\n",
       "    <tr>\n",
       "      <th>3</th>\n",
       "      <td>This owes a great deal to the plot of CAPTAINS...</td>\n",
       "      <td>Subjective</td>\n",
       "    </tr>\n",
       "    <tr>\n",
       "      <th>4</th>\n",
       "      <td>Justin goes home to live with his strict, hard...</td>\n",
       "      <td>Subjective</td>\n",
       "    </tr>\n",
       "    <tr>\n",
       "      <th>...</th>\n",
       "      <td>...</td>\n",
       "      <td>...</td>\n",
       "    </tr>\n",
       "    <tr>\n",
       "      <th>88583</th>\n",
       "      <td>A film by Louis Aimé Augustin Le Prince, shot ...</td>\n",
       "      <td>Objective</td>\n",
       "    </tr>\n",
       "    <tr>\n",
       "      <th>88584</th>\n",
       "      <td>A group of Irish noblemen kidnap girls in orde...</td>\n",
       "      <td>Objective</td>\n",
       "    </tr>\n",
       "    <tr>\n",
       "      <th>88585</th>\n",
       "      <td>The filmmaker inhaled Andy Goldsworthy's art, ...</td>\n",
       "      <td>Subjective</td>\n",
       "    </tr>\n",
       "    <tr>\n",
       "      <th>88586</th>\n",
       "      <td>There are few films that leave me with the fee...</td>\n",
       "      <td>Subjective</td>\n",
       "    </tr>\n",
       "    <tr>\n",
       "      <th>88587</th>\n",
       "      <td>A girl, abandoned by her mother when she was t...</td>\n",
       "      <td>Objective</td>\n",
       "    </tr>\n",
       "  </tbody>\n",
       "</table>\n",
       "<p>88588 rows × 2 columns</p>\n",
       "</div>"
      ],
      "text/plain": [
       "                                                       0           1\n",
       "0      This film, for an after school special, isn't ...  Subjective\n",
       "1      Dictated by thin experience (of both life and ...  Subjective\n",
       "2      This focuses around the lives of four women, a...  Subjective\n",
       "3      This owes a great deal to the plot of CAPTAINS...  Subjective\n",
       "4      Justin goes home to live with his strict, hard...  Subjective\n",
       "...                                                  ...         ...\n",
       "88583  A film by Louis Aimé Augustin Le Prince, shot ...   Objective\n",
       "88584  A group of Irish noblemen kidnap girls in orde...   Objective\n",
       "88585  The filmmaker inhaled Andy Goldsworthy's art, ...  Subjective\n",
       "88586  There are few films that leave me with the fee...  Subjective\n",
       "88587  A girl, abandoned by her mother when she was t...   Objective\n",
       "\n",
       "[88588 rows x 2 columns]"
      ]
     },
     "execution_count": 27,
     "metadata": {},
     "output_type": "execute_result"
    }
   ],
   "source": [
    "df"
   ]
  },
  {
   "cell_type": "code",
   "execution_count": null,
   "id": "98f26778",
   "metadata": {},
   "outputs": [],
   "source": [
    "from transformers import AutoTokenizer"
   ]
  },
  {
   "cell_type": "code",
   "execution_count": null,
   "id": "ceb0da90",
   "metadata": {},
   "outputs": [],
   "source": [
    "rbs_model = f'cardiffnlp/twitter-roberta-base-sentiment'\n",
    "tokenizer = AutoTokenizer.from_pretrained(rbs_model)"
   ]
  },
  {
   "cell_type": "code",
   "execution_count": null,
   "id": "81fd7231",
   "metadata": {},
   "outputs": [],
   "source": [
    "def tokenize(data_dict):\n",
    "    return tokenizer(data_dict['text'])"
   ]
  }
 ],
 "metadata": {
  "kernelspec": {
   "display_name": "Python 3 (ipykernel)",
   "language": "python",
   "name": "python3"
  },
  "language_info": {
   "codemirror_mode": {
    "name": "ipython",
    "version": 3
   },
   "file_extension": ".py",
   "mimetype": "text/x-python",
   "name": "python",
   "nbconvert_exporter": "python",
   "pygments_lexer": "ipython3",
   "version": "3.9.9"
  }
 },
 "nbformat": 4,
 "nbformat_minor": 5
}
