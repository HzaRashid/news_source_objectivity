{
 "cells": [
  {
   "cell_type": "code",
   "execution_count": 14,
   "id": "fbab4b99",
   "metadata": {},
   "outputs": [],
   "source": [
    "import pandas as pd"
   ]
  },
  {
   "cell_type": "code",
   "execution_count": 15,
   "id": "48e44e50",
   "metadata": {},
   "outputs": [],
   "source": [
    "movie_reviews = pd.read_csv('IMDB Dataset.csv').filter(['review'])"
   ]
  },
  {
   "cell_type": "code",
   "execution_count": 16,
   "id": "e9affcc6",
   "metadata": {},
   "outputs": [],
   "source": [
    "reviews = list(movie_reviews['review'])"
   ]
  },
  {
   "cell_type": "code",
   "execution_count": 17,
   "id": "20997bd0",
   "metadata": {},
   "outputs": [],
   "source": [
    "movie_synopses = pd.read_csv(r'movies_metadata.csv', low_memory=False, dtype='string').filter(['overview'])\n",
    "synopses = list(movie_synopses['overview'])"
   ]
  },
  {
   "cell_type": "code",
   "execution_count": 18,
   "id": "2ac28728",
   "metadata": {},
   "outputs": [
    {
     "name": "stdout",
     "output_type": "stream",
     "text": [
      "there are 954 null values\n"
     ]
    }
   ],
   "source": [
    "# view null values\n",
    "i = 0\n",
    "for s in synopses:\n",
    "    if pd.isna(s):\n",
    "        i += 1\n",
    "print('there are ' + str(i) + ' null values')"
   ]
  },
  {
   "cell_type": "code",
   "execution_count": 19,
   "id": "2ffa77ad",
   "metadata": {},
   "outputs": [
    {
     "name": "stdout",
     "output_type": "stream",
     "text": [
      "length of synopses with null values: 45466\n",
      "length of synopses without null values: 44512\n",
      "Difference: 954\n"
     ]
    }
   ],
   "source": [
    "# get rid of null rows\n",
    "\n",
    "init_len = len(synopses)\n",
    "\n",
    "print('length of synopses with null values: ' + str(init_len))\n",
    "\n",
    "synopses = list(filter(lambda x: not pd.isna(x), synopses))\n",
    "\n",
    "print('length of synopses without null values: ' + str(len(synopses)))\n",
    "print('Difference: ' + str(init_len - len(synopses)))"
   ]
  },
  {
   "cell_type": "code",
   "execution_count": 20,
   "id": "a19cffef",
   "metadata": {},
   "outputs": [],
   "source": [
    "# downsample reviews\n",
    "reviews = reviews[:len(synopses)]"
   ]
  },
  {
   "cell_type": "code",
   "execution_count": 21,
   "id": "25360437",
   "metadata": {},
   "outputs": [
    {
     "data": {
      "text/plain": [
       "(True, 44512, 44512)"
      ]
     },
     "execution_count": 21,
     "metadata": {},
     "output_type": "execute_result"
    }
   ],
   "source": [
    "len(reviews) == len(synopses), len(reviews), len(synopses)"
   ]
  },
  {
   "cell_type": "code",
   "execution_count": 22,
   "id": "a4b71473",
   "metadata": {},
   "outputs": [
    {
     "data": {
      "text/plain": [
       "(89024, 44512.0, 44512, 44512)"
      ]
     },
     "execution_count": 22,
     "metadata": {},
     "output_type": "execute_result"
    }
   ],
   "source": [
    "df = pd.DataFrame()\n",
    "data = reviews + synopses\n",
    "len(data), len(data)/2, len(reviews), len(reviews)"
   ]
  },
  {
   "cell_type": "code",
   "execution_count": 23,
   "id": "7e908c9f",
   "metadata": {},
   "outputs": [],
   "source": [
    "data = [text[:240] for text in data]"
   ]
  },
  {
   "cell_type": "code",
   "execution_count": 24,
   "id": "a14b9f7a",
   "metadata": {},
   "outputs": [],
   "source": [
    "df.insert(loc=0, column='text', value = data)"
   ]
  },
  {
   "cell_type": "code",
   "execution_count": 25,
   "id": "06c33937",
   "metadata": {},
   "outputs": [
    {
     "name": "stdout",
     "output_type": "stream",
     "text": [
      "LAST REVIEW: this film is definitely dated\n",
      "FIRST SYNOPSIS: Buzz Lightyear onto the scene. Afraid of losing his place in Andy's heart, Woody plots against Buzz.\n"
     ]
    }
   ],
   "source": [
    "print('LAST REVIEW: ' + str(df['text'][44511][211:263]))\n",
    "print('FIRST SYNOPSIS: ' + str(df['text'][44512][80:180]))"
   ]
  },
  {
   "cell_type": "code",
   "execution_count": 26,
   "id": "f4eaeff6",
   "metadata": {},
   "outputs": [],
   "source": [
    "# Label the reviews/synopses\n",
    "size = len(data)\n",
    "labels = []\n",
    "for i in range(size):\n",
    "    if i < size/2:\n",
    "        labels.append('Subjective')  # first half of dataframe are reviews\n",
    "    else:\n",
    "        labels.append('Objective')  # second half are synopses"
   ]
  },
  {
   "cell_type": "code",
   "execution_count": 27,
   "id": "dc6a4e4c",
   "metadata": {},
   "outputs": [],
   "source": [
    "df['Labels'] = labels"
   ]
  },
  {
   "cell_type": "code",
   "execution_count": 28,
   "id": "c742d38a",
   "metadata": {},
   "outputs": [
    {
     "name": "stdout",
     "output_type": "stream",
     "text": [
      "LAST REVIEW label: SUBJECTIVE\n",
      "FIRST SYNOPSIS label: OBJECTIVE\n"
     ]
    }
   ],
   "source": [
    "print('LAST REVIEW label: ' + str(df['Labels'][44511].upper()))\n",
    "print('FIRST SYNOPSIS label: ' + str(df['Labels'][44512].upper()))"
   ]
  },
  {
   "cell_type": "code",
   "execution_count": 29,
   "id": "5c99b251",
   "metadata": {},
   "outputs": [],
   "source": [
    "# randomize order of dataset\n",
    "from sklearn.utils import shuffle\n",
    "df = df.sample(frac=1)\n",
    "df = df.sample(frac=1)\n",
    "df = shuffle(df)\n",
    "df = shuffle(df)"
   ]
  },
  {
   "cell_type": "code",
   "execution_count": 30,
   "id": "3e87e0c9",
   "metadata": {},
   "outputs": [
    {
     "data": {
      "text/html": [
       "<div>\n",
       "<style scoped>\n",
       "    .dataframe tbody tr th:only-of-type {\n",
       "        vertical-align: middle;\n",
       "    }\n",
       "\n",
       "    .dataframe tbody tr th {\n",
       "        vertical-align: top;\n",
       "    }\n",
       "\n",
       "    .dataframe thead th {\n",
       "        text-align: right;\n",
       "    }\n",
       "</style>\n",
       "<table border=\"1\" class=\"dataframe\">\n",
       "  <thead>\n",
       "    <tr style=\"text-align: right;\">\n",
       "      <th></th>\n",
       "      <th>text</th>\n",
       "      <th>Labels</th>\n",
       "    </tr>\n",
       "  </thead>\n",
       "  <tbody>\n",
       "    <tr>\n",
       "      <th>33107</th>\n",
       "      <td>Chang Cheh's \"Shaolin Temple\" might very well ...</td>\n",
       "      <td>Subjective</td>\n",
       "    </tr>\n",
       "    <tr>\n",
       "      <th>10365</th>\n",
       "      <td>The only print of CHIKAMATUS MONOGATARI I've b...</td>\n",
       "      <td>Subjective</td>\n",
       "    </tr>\n",
       "    <tr>\n",
       "      <th>30206</th>\n",
       "      <td>This one took me by surprise because i had oft...</td>\n",
       "      <td>Subjective</td>\n",
       "    </tr>\n",
       "    <tr>\n",
       "      <th>2789</th>\n",
       "      <td>DON'T TORTURE A DUCKLING (Lucio Fulci - Italy ...</td>\n",
       "      <td>Subjective</td>\n",
       "    </tr>\n",
       "    <tr>\n",
       "      <th>69579</th>\n",
       "      <td>Bus Riley, once his small town's hot high-scho...</td>\n",
       "      <td>Objective</td>\n",
       "    </tr>\n",
       "    <tr>\n",
       "      <th>...</th>\n",
       "      <td>...</td>\n",
       "      <td>...</td>\n",
       "    </tr>\n",
       "    <tr>\n",
       "      <th>35375</th>\n",
       "      <td>I rented this tape a couple of years ago, and ...</td>\n",
       "      <td>Subjective</td>\n",
       "    </tr>\n",
       "    <tr>\n",
       "      <th>30578</th>\n",
       "      <td>After 10 years, it is finally save to say that...</td>\n",
       "      <td>Subjective</td>\n",
       "    </tr>\n",
       "    <tr>\n",
       "      <th>30524</th>\n",
       "      <td>This movie is a blatant attempt by the left in...</td>\n",
       "      <td>Subjective</td>\n",
       "    </tr>\n",
       "    <tr>\n",
       "      <th>61038</th>\n",
       "      <td>Don't be fooled by the title. Christmas Holida...</td>\n",
       "      <td>Objective</td>\n",
       "    </tr>\n",
       "    <tr>\n",
       "      <th>72713</th>\n",
       "      <td>An enterprising reporter takes along four will...</td>\n",
       "      <td>Objective</td>\n",
       "    </tr>\n",
       "  </tbody>\n",
       "</table>\n",
       "<p>89024 rows × 2 columns</p>\n",
       "</div>"
      ],
      "text/plain": [
       "                                                    text      Labels\n",
       "33107  Chang Cheh's \"Shaolin Temple\" might very well ...  Subjective\n",
       "10365  The only print of CHIKAMATUS MONOGATARI I've b...  Subjective\n",
       "30206  This one took me by surprise because i had oft...  Subjective\n",
       "2789   DON'T TORTURE A DUCKLING (Lucio Fulci - Italy ...  Subjective\n",
       "69579  Bus Riley, once his small town's hot high-scho...   Objective\n",
       "...                                                  ...         ...\n",
       "35375  I rented this tape a couple of years ago, and ...  Subjective\n",
       "30578  After 10 years, it is finally save to say that...  Subjective\n",
       "30524  This movie is a blatant attempt by the left in...  Subjective\n",
       "61038  Don't be fooled by the title. Christmas Holida...   Objective\n",
       "72713  An enterprising reporter takes along four will...   Objective\n",
       "\n",
       "[89024 rows x 2 columns]"
      ]
     },
     "execution_count": 30,
     "metadata": {},
     "output_type": "execute_result"
    }
   ],
   "source": [
    "df"
   ]
  },
  {
   "cell_type": "code",
   "execution_count": 33,
   "id": "f941bb85",
   "metadata": {},
   "outputs": [
    {
     "data": {
      "text/plain": [
       "\"Wan Tin-Sau is an actor who cannot seem to catch a break, since his only professional jobs are limited to being a movie extra. As well as being an actor, he is also the head of his village's community center.\""
      ]
     },
     "execution_count": 33,
     "metadata": {},
     "output_type": "execute_result"
    }
   ],
   "source": [
    "df = df.reset_index(drop=True)\n",
    "df['text'][61038]"
   ]
  },
  {
   "cell_type": "code",
   "execution_count": 34,
   "id": "57e6f850",
   "metadata": {},
   "outputs": [
    {
     "data": {
      "text/plain": [
       "'Objective'"
      ]
     },
     "execution_count": 34,
     "metadata": {},
     "output_type": "execute_result"
    }
   ],
   "source": [
    "df['Labels'][61038]"
   ]
  },
  {
   "cell_type": "code",
   "execution_count": null,
   "id": "151f0ded",
   "metadata": {},
   "outputs": [],
   "source": []
  }
 ],
 "metadata": {
  "kernelspec": {
   "display_name": "Python 3 (ipykernel)",
   "language": "python",
   "name": "python3"
  },
  "language_info": {
   "codemirror_mode": {
    "name": "ipython",
    "version": 3
   },
   "file_extension": ".py",
   "mimetype": "text/x-python",
   "name": "python",
   "nbconvert_exporter": "python",
   "pygments_lexer": "ipython3",
   "version": "3.9.9"
  }
 },
 "nbformat": 4,
 "nbformat_minor": 5
}
