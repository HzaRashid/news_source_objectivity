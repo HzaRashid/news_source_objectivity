{
 "cells": [
  {
   "cell_type": "code",
   "execution_count": 62,
   "id": "fbab4b99",
   "metadata": {},
   "outputs": [],
   "source": [
    "import pandas as pd"
   ]
  },
  {
   "cell_type": "code",
   "execution_count": 63,
   "id": "5cba7249",
   "metadata": {},
   "outputs": [],
   "source": [
    "def remove_duplicates(list_):\n",
    "    collect = set()\n",
    "    for item in list_:\n",
    "        if item not in collect:\n",
    "            collect.add(item)\n",
    "    collect = list(collect)\n",
    "    return collect"
   ]
  },
  {
   "cell_type": "code",
   "execution_count": 64,
   "id": "e9affcc6",
   "metadata": {},
   "outputs": [],
   "source": [
    "movie_reviews = pd.read_csv('IMDB Dataset.csv').filter(['review'])\n",
    "\n",
    "reviews = list(movie_reviews['review'])\n",
    "reviews = remove_duplicates(reviews)"
   ]
  },
  {
   "cell_type": "code",
   "execution_count": 65,
   "id": "36afaf38",
   "metadata": {
    "scrolled": true
   },
   "outputs": [
    {
     "data": {
      "text/plain": [
       "49582"
      ]
     },
     "execution_count": 65,
     "metadata": {},
     "output_type": "execute_result"
    }
   ],
   "source": [
    "len(reviews)"
   ]
  },
  {
   "cell_type": "code",
   "execution_count": 66,
   "id": "20997bd0",
   "metadata": {},
   "outputs": [],
   "source": [
    "movie_synopses = pd.read_csv(r'movies_metadata.csv', low_memory=False).filter(['overview'])\n",
    "\n",
    "synopses = list(movie_synopses['overview'])\n",
    "synopses = remove_duplicates(synopses)"
   ]
  },
  {
   "cell_type": "code",
   "execution_count": 67,
   "id": "2ffa77ad",
   "metadata": {},
   "outputs": [],
   "source": [
    "reviews = list(filter(lambda x: not pd.isna(x), reviews))\n",
    "synopses = list(filter(lambda x: not pd.isna(x), synopses))"
   ]
  },
  {
   "cell_type": "code",
   "execution_count": 68,
   "id": "5614f46a",
   "metadata": {},
   "outputs": [
    {
     "name": "stdout",
     "output_type": "stream",
     "text": [
      "49582 44307\n"
     ]
    }
   ],
   "source": [
    "print(len(reviews), len(synopses))"
   ]
  },
  {
   "cell_type": "code",
   "execution_count": 69,
   "id": "8e6fde22",
   "metadata": {},
   "outputs": [],
   "source": [
    "# down sample reviews\n",
    "reviews = reviews[:len(synopses)]"
   ]
  },
  {
   "cell_type": "code",
   "execution_count": 70,
   "id": "25360437",
   "metadata": {
    "scrolled": false
   },
   "outputs": [
    {
     "data": {
      "text/plain": [
       "(True, 44307, 44307)"
      ]
     },
     "execution_count": 70,
     "metadata": {},
     "output_type": "execute_result"
    }
   ],
   "source": [
    "len(reviews) == len(synopses), len(reviews), len(synopses)"
   ]
  },
  {
   "cell_type": "code",
   "execution_count": 71,
   "id": "5dc92189",
   "metadata": {},
   "outputs": [
    {
     "data": {
      "text/plain": [
       "(88614, 44307.0, 44307, 44307)"
      ]
     },
     "execution_count": 71,
     "metadata": {},
     "output_type": "execute_result"
    }
   ],
   "source": [
    "data = reviews + synopses\n",
    "len(data), len(data)/2, len(synopses), len(reviews)"
   ]
  },
  {
   "cell_type": "code",
   "execution_count": 72,
   "id": "5f30d522",
   "metadata": {
    "scrolled": true
   },
   "outputs": [
    {
     "data": {
      "text/plain": [
       "88614"
      ]
     },
     "execution_count": 72,
     "metadata": {},
     "output_type": "execute_result"
    }
   ],
   "source": [
    "# reduce no. characters to 240 -- like Twitter, & speeds up training\n",
    "data = [text[:240] for text in data]\n",
    "len(data)"
   ]
  },
  {
   "cell_type": "code",
   "execution_count": 73,
   "id": "7a713cbd",
   "metadata": {},
   "outputs": [],
   "source": [
    "# size = len(data)\n",
    "labeled_reviews = [(reviews[i][:240], 'Subjective') for i in range(len(reviews))]\n",
    "labeled_synopses = [(synopses[i][:240], 'Objective') for i in range(len(synopses))]"
   ]
  },
  {
   "cell_type": "code",
   "execution_count": 74,
   "id": "33a6a5ee",
   "metadata": {},
   "outputs": [],
   "source": [
    "labeled_reviews = remove_duplicates(labeled_reviews)\n",
    "labeled_synopses = remove_duplicates(labeled_synopses)"
   ]
  },
  {
   "cell_type": "code",
   "execution_count": 75,
   "id": "e7e138bc",
   "metadata": {},
   "outputs": [
    {
     "data": {
      "text/plain": [
       "(44285, 44303)"
      ]
     },
     "execution_count": 75,
     "metadata": {},
     "output_type": "execute_result"
    }
   ],
   "source": [
    "len(labeled_reviews), len(labeled_synopses)"
   ]
  },
  {
   "cell_type": "code",
   "execution_count": 76,
   "id": "2fb45dfd",
   "metadata": {},
   "outputs": [],
   "source": [
    "labeled_synopses = labeled_synopses[:len(labeled_reviews)]"
   ]
  },
  {
   "cell_type": "code",
   "execution_count": 77,
   "id": "f9b98377",
   "metadata": {
    "scrolled": true
   },
   "outputs": [
    {
     "data": {
      "text/plain": [
       "88570"
      ]
     },
     "execution_count": 77,
     "metadata": {},
     "output_type": "execute_result"
    }
   ],
   "source": [
    "labeled_data = labeled_reviews + labeled_synopses\n",
    "len(labeled_data)"
   ]
  },
  {
   "cell_type": "code",
   "execution_count": 18,
   "id": "df806f10",
   "metadata": {},
   "outputs": [],
   "source": [
    "# size = len(data)\n",
    "# labeled_data = []\n",
    "\n",
    "# for i in range(size):\n",
    "#     if i < size/2:\n",
    "#         labeled_data.append((data[i], 'Subjective'))\n",
    "#     else:\n",
    "#         labeled_data.append((data[i], 'Objective'))"
   ]
  },
  {
   "cell_type": "code",
   "execution_count": 78,
   "id": "37b9d5d1",
   "metadata": {},
   "outputs": [
    {
     "data": {
      "text/plain": [
       "88570"
      ]
     },
     "execution_count": 78,
     "metadata": {},
     "output_type": "execute_result"
    }
   ],
   "source": [
    "labeled_data = remove_duplicates(labeled_data)\n",
    "len(labeled_data)"
   ]
  },
  {
   "cell_type": "code",
   "execution_count": 79,
   "id": "2050f6bc",
   "metadata": {},
   "outputs": [],
   "source": [
    "from random import shuffle\n",
    "shuffle(labeled_data)"
   ]
  },
  {
   "cell_type": "code",
   "execution_count": 80,
   "id": "43af4f19",
   "metadata": {},
   "outputs": [],
   "source": [
    "df = pd.DataFrame(labeled_data)"
   ]
  },
  {
   "cell_type": "code",
   "execution_count": 83,
   "id": "cc211c29",
   "metadata": {
    "scrolled": true
   },
   "outputs": [
    {
     "data": {
      "text/html": [
       "<div>\n",
       "<style scoped>\n",
       "    .dataframe tbody tr th:only-of-type {\n",
       "        vertical-align: middle;\n",
       "    }\n",
       "\n",
       "    .dataframe tbody tr th {\n",
       "        vertical-align: top;\n",
       "    }\n",
       "\n",
       "    .dataframe thead th {\n",
       "        text-align: right;\n",
       "    }\n",
       "</style>\n",
       "<table border=\"1\" class=\"dataframe\">\n",
       "  <thead>\n",
       "    <tr style=\"text-align: right;\">\n",
       "      <th></th>\n",
       "      <th>0</th>\n",
       "      <th>1</th>\n",
       "    </tr>\n",
       "  </thead>\n",
       "  <tbody>\n",
       "    <tr>\n",
       "      <th>0</th>\n",
       "      <td>An investigative expose of the inner workings ...</td>\n",
       "      <td>Objective</td>\n",
       "    </tr>\n",
       "    <tr>\n",
       "      <th>1</th>\n",
       "      <td>Impoverished Bill befriends starving Trina and...</td>\n",
       "      <td>Objective</td>\n",
       "    </tr>\n",
       "    <tr>\n",
       "      <th>2</th>\n",
       "      <td>Thirteen-year-old Kerry is repeatedly sexually...</td>\n",
       "      <td>Objective</td>\n",
       "    </tr>\n",
       "    <tr>\n",
       "      <th>3</th>\n",
       "      <td>This is another film where the cinematography ...</td>\n",
       "      <td>Subjective</td>\n",
       "    </tr>\n",
       "    <tr>\n",
       "      <th>4</th>\n",
       "      <td>MR. BONES 2: BACK FROM THE PAST, is the story ...</td>\n",
       "      <td>Objective</td>\n",
       "    </tr>\n",
       "  </tbody>\n",
       "</table>\n",
       "</div>"
      ],
      "text/plain": [
       "                                                   0           1\n",
       "0  An investigative expose of the inner workings ...   Objective\n",
       "1  Impoverished Bill befriends starving Trina and...   Objective\n",
       "2  Thirteen-year-old Kerry is repeatedly sexually...   Objective\n",
       "3  This is another film where the cinematography ...  Subjective\n",
       "4  MR. BONES 2: BACK FROM THE PAST, is the story ...   Objective"
      ]
     },
     "execution_count": 83,
     "metadata": {},
     "output_type": "execute_result"
    }
   ],
   "source": [
    "df.head()"
   ]
  },
  {
   "cell_type": "code",
   "execution_count": 84,
   "id": "5c972101",
   "metadata": {},
   "outputs": [
    {
     "data": {
      "text/html": [
       "<div>\n",
       "<style scoped>\n",
       "    .dataframe tbody tr th:only-of-type {\n",
       "        vertical-align: middle;\n",
       "    }\n",
       "\n",
       "    .dataframe tbody tr th {\n",
       "        vertical-align: top;\n",
       "    }\n",
       "\n",
       "    .dataframe thead th {\n",
       "        text-align: right;\n",
       "    }\n",
       "</style>\n",
       "<table border=\"1\" class=\"dataframe\">\n",
       "  <thead>\n",
       "    <tr style=\"text-align: right;\">\n",
       "      <th></th>\n",
       "      <th>0</th>\n",
       "      <th>1</th>\n",
       "    </tr>\n",
       "  </thead>\n",
       "  <tbody>\n",
       "    <tr>\n",
       "      <th>88565</th>\n",
       "      <td>Kim and Ron start out a new school year, only ...</td>\n",
       "      <td>Objective</td>\n",
       "    </tr>\n",
       "    <tr>\n",
       "      <th>88566</th>\n",
       "      <td>Four old school friends reunite to attempt the...</td>\n",
       "      <td>Objective</td>\n",
       "    </tr>\n",
       "    <tr>\n",
       "      <th>88567</th>\n",
       "      <td>Daisy and Viola are siamese twin sisters on th...</td>\n",
       "      <td>Objective</td>\n",
       "    </tr>\n",
       "    <tr>\n",
       "      <th>88568</th>\n",
       "      <td>Yogi Bear and his pal Boo Boo are shipped off ...</td>\n",
       "      <td>Objective</td>\n",
       "    </tr>\n",
       "    <tr>\n",
       "      <th>88569</th>\n",
       "      <td>This film is what most of the industry has for...</td>\n",
       "      <td>Subjective</td>\n",
       "    </tr>\n",
       "  </tbody>\n",
       "</table>\n",
       "</div>"
      ],
      "text/plain": [
       "                                                       0           1\n",
       "88565  Kim and Ron start out a new school year, only ...   Objective\n",
       "88566  Four old school friends reunite to attempt the...   Objective\n",
       "88567  Daisy and Viola are siamese twin sisters on th...   Objective\n",
       "88568  Yogi Bear and his pal Boo Boo are shipped off ...   Objective\n",
       "88569  This film is what most of the industry has for...  Subjective"
      ]
     },
     "execution_count": 84,
     "metadata": {},
     "output_type": "execute_result"
    }
   ],
   "source": [
    "df.tail()"
   ]
  },
  {
   "cell_type": "code",
   "execution_count": 85,
   "id": "dce35054",
   "metadata": {},
   "outputs": [],
   "source": [
    "df = df.rename(columns={0:'Text', 1:'Labels'})"
   ]
  },
  {
   "cell_type": "code",
   "execution_count": 86,
   "id": "187af9a5",
   "metadata": {
    "scrolled": true
   },
   "outputs": [
    {
     "data": {
      "text/html": [
       "<div>\n",
       "<style scoped>\n",
       "    .dataframe tbody tr th:only-of-type {\n",
       "        vertical-align: middle;\n",
       "    }\n",
       "\n",
       "    .dataframe tbody tr th {\n",
       "        vertical-align: top;\n",
       "    }\n",
       "\n",
       "    .dataframe thead th {\n",
       "        text-align: right;\n",
       "    }\n",
       "</style>\n",
       "<table border=\"1\" class=\"dataframe\">\n",
       "  <thead>\n",
       "    <tr style=\"text-align: right;\">\n",
       "      <th></th>\n",
       "      <th>Text</th>\n",
       "      <th>Labels</th>\n",
       "    </tr>\n",
       "  </thead>\n",
       "  <tbody>\n",
       "    <tr>\n",
       "      <th>0</th>\n",
       "      <td>An investigative expose of the inner workings ...</td>\n",
       "      <td>Objective</td>\n",
       "    </tr>\n",
       "    <tr>\n",
       "      <th>1</th>\n",
       "      <td>Impoverished Bill befriends starving Trina and...</td>\n",
       "      <td>Objective</td>\n",
       "    </tr>\n",
       "    <tr>\n",
       "      <th>2</th>\n",
       "      <td>Thirteen-year-old Kerry is repeatedly sexually...</td>\n",
       "      <td>Objective</td>\n",
       "    </tr>\n",
       "    <tr>\n",
       "      <th>3</th>\n",
       "      <td>This is another film where the cinematography ...</td>\n",
       "      <td>Subjective</td>\n",
       "    </tr>\n",
       "    <tr>\n",
       "      <th>4</th>\n",
       "      <td>MR. BONES 2: BACK FROM THE PAST, is the story ...</td>\n",
       "      <td>Objective</td>\n",
       "    </tr>\n",
       "  </tbody>\n",
       "</table>\n",
       "</div>"
      ],
      "text/plain": [
       "                                                Text      Labels\n",
       "0  An investigative expose of the inner workings ...   Objective\n",
       "1  Impoverished Bill befriends starving Trina and...   Objective\n",
       "2  Thirteen-year-old Kerry is repeatedly sexually...   Objective\n",
       "3  This is another film where the cinematography ...  Subjective\n",
       "4  MR. BONES 2: BACK FROM THE PAST, is the story ...   Objective"
      ]
     },
     "execution_count": 86,
     "metadata": {},
     "output_type": "execute_result"
    }
   ],
   "source": [
    "df.head()"
   ]
  },
  {
   "cell_type": "code",
   "execution_count": 87,
   "id": "19a1bd72",
   "metadata": {},
   "outputs": [
    {
     "data": {
      "text/plain": [
       "(88570,)"
      ]
     },
     "execution_count": 87,
     "metadata": {},
     "output_type": "execute_result"
    }
   ],
   "source": [
    "df['Text'].shape"
   ]
  },
  {
   "cell_type": "code",
   "execution_count": 29,
   "id": "5837d98c",
   "metadata": {},
   "outputs": [],
   "source": [
    "import numpy as np\n",
    "from sklearn.model_selection import train_test_split"
   ]
  },
  {
   "cell_type": "code",
   "execution_count": 30,
   "id": "f357ffd4",
   "metadata": {},
   "outputs": [],
   "source": [
    "# split data into train, validtion, and test sets\n",
    "\n",
    "X_train, X_rem, y_train, y_rem = train_test_split(df['Text'], df['Labels'], train_size = 0.8, random_state = 24)\n",
    "\n",
    "X_valid, X_test, y_valid, y_test = train_test_split(X_rem, y_rem, test_size = 0.5, random_state = 24)"
   ]
  },
  {
   "cell_type": "code",
   "execution_count": 123,
   "id": "98f26778",
   "metadata": {},
   "outputs": [],
   "source": [
    "from transformers import AutoTokenizer, AutoModelForSequenceClassification, pipeline\n",
    "import torch"
   ]
  },
  {
   "cell_type": "code",
   "execution_count": 124,
   "id": "ceb0da90",
   "metadata": {},
   "outputs": [],
   "source": [
    "# use roberta base sentiment model\n",
    "rbs_model = f'cardiffnlp/twitter-roberta-base-sentiment'\n",
    "tokenizer = AutoTokenizer.from_pretrained(rbs_model)\n",
    "model = AutoModelForSequenceClassification.from_pretrained(rbs_model)\n",
    "\n",
    "Classifier = pipeline('sentiment-analysis', model=model, tokenizer=tokenizer)"
   ]
  },
  {
   "cell_type": "code",
   "execution_count": 93,
   "id": "42ecc866",
   "metadata": {},
   "outputs": [
    {
     "data": {
      "text/plain": [
       "('cardiffnlp/twitter-roberta-base-sentiment/tokenizer_config.json',\n",
       " 'cardiffnlp/twitter-roberta-base-sentiment/special_tokens_map.json',\n",
       " 'cardiffnlp/twitter-roberta-base-sentiment/vocab.json',\n",
       " 'cardiffnlp/twitter-roberta-base-sentiment/merges.txt',\n",
       " 'cardiffnlp/twitter-roberta-base-sentiment/added_tokens.json',\n",
       " 'cardiffnlp/twitter-roberta-base-sentiment/tokenizer.json')"
      ]
     },
     "execution_count": 93,
     "metadata": {},
     "output_type": "execute_result"
    }
   ],
   "source": [
    "model = AutoModelForSequenceClassification.from_pretrained(rbs_model)\n",
    "model.save_pretrained(rbs_model)\n",
    "tokenizer.save_pretrained(rbs_model)"
   ]
  },
  {
   "cell_type": "code",
   "execution_count": 138,
   "id": "370e0a40",
   "metadata": {},
   "outputs": [
    {
     "name": "stdout",
     "output_type": "stream",
     "text": [
      "tensor([[0.0818, 0.8292, 0.0890],\n",
      "        [0.0436, 0.6712, 0.2852],\n",
      "        [0.8320, 0.1627, 0.0053],\n",
      "        [0.4055, 0.4073, 0.1873],\n",
      "        [0.5407, 0.4361, 0.0232]])\n",
      "['neutral', 'neutral', 'negative', 'neutral', 'negative']\n"
     ]
    }
   ],
   "source": [
    "from torch.nn.functional import softmax\n",
    "\n",
    "labels = ['negative', 'neutral', 'positive']\n",
    "\n",
    "with torch.no_grad():\n",
    "    encoded_text_batch = tokenizer(list(df['Text'][:5]), \n",
    "                               padding=True, \n",
    "                               truncation=True,\n",
    "                               max_length=512,\n",
    "                               return_tensors='pt')\n",
    "\n",
    "    outputs = model(**encoded_text_batch)\n",
    "    \n",
    "    prediction_tensors = softmax(outputs.logits, dim=1)\n",
    "    print(prediction_tensors)\n",
    "\n",
    "    sentiments = [labels[torch.argmax(predictions[i])] for i in range(len(predictions))]\n",
    "    print(sentiments)"
   ]
  },
  {
   "cell_type": "code",
   "execution_count": 105,
   "id": "8e5743b6",
   "metadata": {},
   "outputs": [
    {
     "data": {
      "text/plain": [
       "['An investigative expose of the inner workings inside the commercial pet food industry, which has went largely unchallenged until now.',\n",
       " 'Impoverished Bill befriends starving Trina and takes her into his shantytown cabin and looks after her, but making clear there are no strings attached and that he remains entirely free.',\n",
       " 'Thirteen-year-old Kerry is repeatedly sexually abused by several adults, including at one point her mother. Her father sets her up as a prostitute. Kerry finally calls Childline and is put in a safe house, where she tries to come to terms w',\n",
       " 'This is another film where the cinematography is the best thing to recommend it. That would be fine if the film were a travelogue, but as a dramatic exercise in cinematic artistry, that is not good enough. The theme of inter-species respect',\n",
       " 'MR. BONES 2: BACK FROM THE PAST, is the story of Hekule, the King of Kuvukiland who is given a gemstone by the dying Kunji Balanadin. The stone is cursed and causes Hekule to become possessed by the spirit of the mischievous Kunji. It is up']"
      ]
     },
     "execution_count": 105,
     "metadata": {},
     "output_type": "execute_result"
    }
   ],
   "source": [
    "list(df['Text'][:5])"
   ]
  },
  {
   "cell_type": "code",
   "execution_count": null,
   "id": "0c6a41ff",
   "metadata": {},
   "outputs": [],
   "source": []
  }
 ],
 "metadata": {
  "kernelspec": {
   "display_name": "Python 3 (ipykernel)",
   "language": "python",
   "name": "python3"
  },
  "language_info": {
   "codemirror_mode": {
    "name": "ipython",
    "version": 3
   },
   "file_extension": ".py",
   "mimetype": "text/x-python",
   "name": "python",
   "nbconvert_exporter": "python",
   "pygments_lexer": "ipython3",
   "version": "3.9.7"
  }
 },
 "nbformat": 4,
 "nbformat_minor": 5
}
